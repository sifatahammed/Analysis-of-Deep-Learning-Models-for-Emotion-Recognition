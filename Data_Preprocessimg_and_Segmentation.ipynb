{
  "nbformat": 4,
  "nbformat_minor": 0,
  "metadata": {
    "colab": {
      "provenance": []
    },
    "kernelspec": {
      "name": "python3",
      "display_name": "Python 3"
    },
    "language_info": {
      "name": "python"
    }
  },
  "cells": [
    {
      "cell_type": "code",
      "source": [
        "from google.colab import drive\n",
        "drive.mount('/content/drive')"
      ],
      "metadata": {
        "colab": {
          "base_uri": "https://localhost:8080/"
        },
        "id": "dCYW3DjW2J0F",
        "outputId": "b16f8a93-6255-48f5-cb5a-dbd85beca85c"
      },
      "execution_count": null,
      "outputs": [
        {
          "output_type": "stream",
          "name": "stdout",
          "text": [
            "Drive already mounted at /content/drive; to attempt to forcibly remount, call drive.mount(\"/content/drive\", force_remount=True).\n"
          ]
        }
      ]
    },
    {
      "cell_type": "code",
      "source": [
        "!pip install mne"
      ],
      "metadata": {
        "colab": {
          "base_uri": "https://localhost:8080/"
        },
        "id": "2GqsY1Ti2sT3",
        "outputId": "30755b35-d245-4dfa-c6b9-53b7129938d7",
        "collapsed": true
      },
      "execution_count": null,
      "outputs": [
        {
          "output_type": "stream",
          "name": "stdout",
          "text": [
            "Collecting mne\n",
            "  Downloading mne-1.6.1-py3-none-any.whl (8.3 MB)\n",
            "\u001b[2K     \u001b[90m━━━━━━━━━━━━━━━━━━━━━━━━━━━━━━━━━━━━━━━━\u001b[0m \u001b[32m8.3/8.3 MB\u001b[0m \u001b[31m16.4 MB/s\u001b[0m eta \u001b[36m0:00:00\u001b[0m\n",
            "\u001b[?25hRequirement already satisfied: numpy>=1.21.2 in /usr/local/lib/python3.10/dist-packages (from mne) (1.25.2)\n",
            "Requirement already satisfied: scipy>=1.7.1 in /usr/local/lib/python3.10/dist-packages (from mne) (1.11.4)\n",
            "Requirement already satisfied: matplotlib>=3.5.0 in /usr/local/lib/python3.10/dist-packages (from mne) (3.7.1)\n",
            "Requirement already satisfied: tqdm in /usr/local/lib/python3.10/dist-packages (from mne) (4.66.2)\n",
            "Requirement already satisfied: pooch>=1.5 in /usr/local/lib/python3.10/dist-packages (from mne) (1.8.1)\n",
            "Requirement already satisfied: decorator in /usr/local/lib/python3.10/dist-packages (from mne) (4.4.2)\n",
            "Requirement already satisfied: packaging in /usr/local/lib/python3.10/dist-packages (from mne) (24.0)\n",
            "Requirement already satisfied: jinja2 in /usr/local/lib/python3.10/dist-packages (from mne) (3.1.3)\n",
            "Requirement already satisfied: lazy-loader>=0.3 in /usr/local/lib/python3.10/dist-packages (from mne) (0.3)\n",
            "Requirement already satisfied: contourpy>=1.0.1 in /usr/local/lib/python3.10/dist-packages (from matplotlib>=3.5.0->mne) (1.2.1)\n",
            "Requirement already satisfied: cycler>=0.10 in /usr/local/lib/python3.10/dist-packages (from matplotlib>=3.5.0->mne) (0.12.1)\n",
            "Requirement already satisfied: fonttools>=4.22.0 in /usr/local/lib/python3.10/dist-packages (from matplotlib>=3.5.0->mne) (4.50.0)\n",
            "Requirement already satisfied: kiwisolver>=1.0.1 in /usr/local/lib/python3.10/dist-packages (from matplotlib>=3.5.0->mne) (1.4.5)\n",
            "Requirement already satisfied: pillow>=6.2.0 in /usr/local/lib/python3.10/dist-packages (from matplotlib>=3.5.0->mne) (9.4.0)\n",
            "Requirement already satisfied: pyparsing>=2.3.1 in /usr/local/lib/python3.10/dist-packages (from matplotlib>=3.5.0->mne) (3.1.2)\n",
            "Requirement already satisfied: python-dateutil>=2.7 in /usr/local/lib/python3.10/dist-packages (from matplotlib>=3.5.0->mne) (2.8.2)\n",
            "Requirement already satisfied: platformdirs>=2.5.0 in /usr/local/lib/python3.10/dist-packages (from pooch>=1.5->mne) (4.2.0)\n",
            "Requirement already satisfied: requests>=2.19.0 in /usr/local/lib/python3.10/dist-packages (from pooch>=1.5->mne) (2.31.0)\n",
            "Requirement already satisfied: MarkupSafe>=2.0 in /usr/local/lib/python3.10/dist-packages (from jinja2->mne) (2.1.5)\n",
            "Requirement already satisfied: six>=1.5 in /usr/local/lib/python3.10/dist-packages (from python-dateutil>=2.7->matplotlib>=3.5.0->mne) (1.16.0)\n",
            "Requirement already satisfied: charset-normalizer<4,>=2 in /usr/local/lib/python3.10/dist-packages (from requests>=2.19.0->pooch>=1.5->mne) (3.3.2)\n",
            "Requirement already satisfied: idna<4,>=2.5 in /usr/local/lib/python3.10/dist-packages (from requests>=2.19.0->pooch>=1.5->mne) (3.6)\n",
            "Requirement already satisfied: urllib3<3,>=1.21.1 in /usr/local/lib/python3.10/dist-packages (from requests>=2.19.0->pooch>=1.5->mne) (2.0.7)\n",
            "Requirement already satisfied: certifi>=2017.4.17 in /usr/local/lib/python3.10/dist-packages (from requests>=2.19.0->pooch>=1.5->mne) (2024.2.2)\n",
            "Installing collected packages: mne\n",
            "Successfully installed mne-1.6.1\n"
          ]
        }
      ]
    },
    {
      "cell_type": "code",
      "source": [
        "import numpy as np\n",
        "import mne  # For EEG data preprocessing and feature extraction\n",
        "from tensorflow.keras import layers, models\n",
        "import matplotlib.pyplot as plt\n"
      ],
      "metadata": {
        "id": "5HQAcRY08b9x"
      },
      "execution_count": null,
      "outputs": []
    },
    {
      "cell_type": "code",
      "source": [
        "import mne\n",
        "import os\n",
        "\n",
        "# Specify the folder path (replace with your actual path)\n",
        "folder_path = \"/content/drive/MyDrive/EEG DATASET\"\n",
        "\n",
        "# Error handling: Check if folder exists\n",
        "if not os.path.exists(folder_path):\n",
        "    raise ValueError(f\"Folder '{folder_path}' does not exist. Please provide a valid path.\")\n",
        "\n",
        "# Create an empty list to store the files (optional)\n",
        "files = []\n",
        "\n",
        "# Iterate through files in the folder using os.listdir()\n",
        "for filename in os.listdir(folder_path):\n",
        "    # Check if it's a file (not a directory) using os.path.isfile()\n",
        "    if os.path.isfile(os.path.join(folder_path, filename)):\n",
        "        # Construct the full path to the file\n",
        "        full_path = os.path.join(folder_path, filename)\n",
        "\n",
        "        # Load the file using mne.io.read() (replace with specific MNE function if needed)\n",
        "        data = mne.io.read_raw_cnt(full_path)\n",
        "\n",
        "        # Process the data (replace with your specific operations)\n",
        "        print(f\"Processing file: {filename}\")\n",
        "        # ... your data processing logic here ...\n",
        "\n",
        "        # Optionally, add the file to the list (if needed)\n",
        "        files.append(data)\n",
        "\n",
        "\n"
      ],
      "metadata": {
        "id": "GLo-k5ylJjKo",
        "colab": {
          "base_uri": "https://localhost:8080/"
        },
        "outputId": "d1ffa88f-1cf0-457f-a438-0bac95b14e86"
      },
      "execution_count": null,
      "outputs": [
        {
          "output_type": "stream",
          "name": "stderr",
          "text": [
            "<ipython-input-4-15bfd2a69edd>:22: RuntimeWarning:   Could not parse meas date from the header. Setting to None.\n",
            "  data = mne.io.read_raw_cnt(full_path)\n"
          ]
        },
        {
          "output_type": "stream",
          "name": "stdout",
          "text": [
            "Processing file: 2_2_20180419.cnt\n",
            "Processing file: 1_2_20180810.cnt\n"
          ]
        },
        {
          "output_type": "stream",
          "name": "stderr",
          "text": [
            "<ipython-input-4-15bfd2a69edd>:22: RuntimeWarning:   Could not parse meas date from the header. Setting to None.\n",
            "  data = mne.io.read_raw_cnt(full_path)\n"
          ]
        },
        {
          "output_type": "stream",
          "name": "stdout",
          "text": [
            "Processing file: 3_2_20180419.cnt\n"
          ]
        },
        {
          "output_type": "stream",
          "name": "stderr",
          "text": [
            "<ipython-input-4-15bfd2a69edd>:22: RuntimeWarning:   Could not parse meas date from the header. Setting to None.\n",
            "  data = mne.io.read_raw_cnt(full_path)\n"
          ]
        },
        {
          "output_type": "stream",
          "name": "stdout",
          "text": [
            "Processing file: 4_2_20180417.cnt\n"
          ]
        },
        {
          "output_type": "stream",
          "name": "stderr",
          "text": [
            "<ipython-input-4-15bfd2a69edd>:22: RuntimeWarning:   Could not parse meas date from the header. Setting to None.\n",
            "  data = mne.io.read_raw_cnt(full_path)\n"
          ]
        },
        {
          "output_type": "stream",
          "name": "stdout",
          "text": [
            "Processing file: 5_2_20180728.cnt\n"
          ]
        },
        {
          "output_type": "stream",
          "name": "stderr",
          "text": [
            "<ipython-input-4-15bfd2a69edd>:22: RuntimeWarning:   Could not parse meas date from the header. Setting to None.\n",
            "  data = mne.io.read_raw_cnt(full_path)\n"
          ]
        },
        {
          "output_type": "stream",
          "name": "stdout",
          "text": [
            "Processing file: 6_2_20180731.cnt\n"
          ]
        },
        {
          "output_type": "stream",
          "name": "stderr",
          "text": [
            "<ipython-input-4-15bfd2a69edd>:22: RuntimeWarning:   Could not parse meas date from the header. Setting to None.\n",
            "  data = mne.io.read_raw_cnt(full_path)\n"
          ]
        },
        {
          "output_type": "stream",
          "name": "stdout",
          "text": [
            "Processing file: 7_2_20180418.cnt\n",
            "Processing file: 8_2_20180802.cnt\n",
            "Processing file: 9_2_20180804.cnt\n"
          ]
        },
        {
          "output_type": "stream",
          "name": "stderr",
          "text": [
            "<ipython-input-4-15bfd2a69edd>:22: RuntimeWarning:   Could not parse meas date from the header. Setting to None.\n",
            "  data = mne.io.read_raw_cnt(full_path)\n"
          ]
        },
        {
          "output_type": "stream",
          "name": "stdout",
          "text": [
            "Processing file: 10_2_20180524.cnt\n",
            "Processing file: 11_2_20180508.cnt\n",
            "Processing file: 12_2_20180508.cnt\n",
            "Processing file: 13_2_20180806.cnt\n"
          ]
        },
        {
          "output_type": "stream",
          "name": "stderr",
          "text": [
            "<ipython-input-4-15bfd2a69edd>:22: RuntimeWarning:   Could not parse meas date from the header. Setting to None.\n",
            "  data = mne.io.read_raw_cnt(full_path)\n"
          ]
        },
        {
          "output_type": "stream",
          "name": "stdout",
          "text": [
            "Processing file: 14_2_20180423.cnt\n",
            "Processing file: 15_2_20180807.cnt\n"
          ]
        },
        {
          "output_type": "stream",
          "name": "stderr",
          "text": [
            "<ipython-input-4-15bfd2a69edd>:22: RuntimeWarning:   Could not parse meas date from the header. Setting to None.\n",
            "  data = mne.io.read_raw_cnt(full_path)\n"
          ]
        },
        {
          "output_type": "stream",
          "name": "stdout",
          "text": [
            "Processing file: 16_2_20180815.cnt\n"
          ]
        }
      ]
    },
    {
      "cell_type": "code",
      "source": [
        "for file in files:\n",
        "  print(file.info)"
      ],
      "metadata": {
        "id": "rK4xDkGdQu6m"
      },
      "execution_count": null,
      "outputs": []
    },
    {
      "cell_type": "code",
      "source": [
        "# check channel names\n",
        "channels = []\n",
        "def channel(raw):\n",
        "  ch_names = raw.ch_names\n",
        "  # drop non-used channels\n",
        "  useless_ch = ['M1', 'M2', 'VEO', 'HEO']\n",
        "  raw = raw.drop_channels(useless_ch)\n",
        "  return raw\n",
        "\n",
        "for file in files:\n",
        "  raw = channel(file)\n",
        "  channels.append(raw)\n",
        "\n",
        "\n"
      ],
      "metadata": {
        "id": "sai--jkv_GKK"
      },
      "execution_count": null,
      "outputs": []
    },
    {
      "cell_type": "code",
      "source": [
        "filter = []\n",
        "def pre(raw):\n",
        "  raw.load_data()\n",
        "  raw = raw.filter(l_freq=0.5, h_freq=30)\n",
        "  print(\"Original sampling frequency:\", raw.info['sfreq'], \"Hz\")\n",
        "\n",
        "  # Define the new sampling frequency after downsampling\n",
        "  new_sfreq = 200  # for example, downsampling to 250 Hz\n",
        "\n",
        "  # Downsampling the data\n",
        "  raw = raw.resample(sfreq=new_sfreq)\n",
        "\n",
        "  return raw\n",
        "\n",
        "for file in channels:\n",
        "  raw = pre(file)\n",
        "  filter.append(raw)\n",
        "\n"
      ],
      "metadata": {
        "id": "NG0U0o2Gw7Sv"
      },
      "execution_count": null,
      "outputs": []
    },
    {
      "cell_type": "code",
      "source": [
        "ref_filter = []\n",
        "def filter2(raw):\n",
        "  raw = raw.set_eeg_reference(ref_channels='average')\n",
        "  return raw\n",
        "\n",
        "for file in filter:\n",
        "  raw = filter2(file)\n",
        "  ref_filter.append(raw)"
      ],
      "metadata": {
        "colab": {
          "base_uri": "https://localhost:8080/"
        },
        "id": "A0X1szZZ0I9X",
        "outputId": "8fe20671-bc97-4867-d412-880ca5ecbdf3"
      },
      "execution_count": null,
      "outputs": [
        {
          "output_type": "stream",
          "name": "stdout",
          "text": [
            "EEG channel type selected for re-referencing\n",
            "Applying average reference.\n",
            "Applying a custom ('EEG',) reference.\n",
            "EEG channel type selected for re-referencing\n",
            "Applying average reference.\n",
            "Applying a custom ('EEG',) reference.\n",
            "EEG channel type selected for re-referencing\n",
            "Applying average reference.\n",
            "Applying a custom ('EEG',) reference.\n",
            "EEG channel type selected for re-referencing\n",
            "Applying average reference.\n",
            "Applying a custom ('EEG',) reference.\n",
            "EEG channel type selected for re-referencing\n",
            "Applying average reference.\n",
            "Applying a custom ('EEG',) reference.\n",
            "EEG channel type selected for re-referencing\n",
            "Applying average reference.\n",
            "Applying a custom ('EEG',) reference.\n",
            "EEG channel type selected for re-referencing\n",
            "Applying average reference.\n",
            "Applying a custom ('EEG',) reference.\n",
            "EEG channel type selected for re-referencing\n",
            "Applying average reference.\n",
            "Applying a custom ('EEG',) reference.\n",
            "EEG channel type selected for re-referencing\n",
            "Applying average reference.\n",
            "Applying a custom ('EEG',) reference.\n",
            "EEG channel type selected for re-referencing\n",
            "Applying average reference.\n",
            "Applying a custom ('EEG',) reference.\n",
            "EEG channel type selected for re-referencing\n",
            "Applying average reference.\n",
            "Applying a custom ('EEG',) reference.\n",
            "EEG channel type selected for re-referencing\n",
            "Applying average reference.\n",
            "Applying a custom ('EEG',) reference.\n",
            "EEG channel type selected for re-referencing\n",
            "Applying average reference.\n",
            "Applying a custom ('EEG',) reference.\n",
            "EEG channel type selected for re-referencing\n",
            "Applying average reference.\n",
            "Applying a custom ('EEG',) reference.\n",
            "EEG channel type selected for re-referencing\n",
            "Applying average reference.\n",
            "Applying a custom ('EEG',) reference.\n",
            "EEG channel type selected for re-referencing\n",
            "Applying average reference.\n",
            "Applying a custom ('EEG',) reference.\n"
          ]
        }
      ]
    },
    {
      "cell_type": "code",
      "source": [
        "for i, raw in enumerate(ref_filter):\n",
        "    filename = f'/content/drive/MyDrive/filter_eeg_1/ss_{i+1}_2.fif'\n",
        "    raw.save(filename)\n"
      ],
      "metadata": {
        "id": "tAIebtvo1Ee3"
      },
      "execution_count": null,
      "outputs": []
    },
    {
      "cell_type": "code",
      "source": [
        "data_files = []\n",
        "for file in ref_filter:\n",
        "  raw = file.get_data()\n",
        "  data_files.append(raw)"
      ],
      "metadata": {
        "id": "E_EsTxjqKlPO"
      },
      "execution_count": null,
      "outputs": []
    },
    {
      "cell_type": "code",
      "source": [
        "import numpy as np\n",
        "base = []\n",
        "\n",
        "def apply_reference_and_baseline_correction(data, start_seconds, end_seconds, pre_stim_window, sampling_rate):\n",
        "\n",
        "  # Apply common average reference (CAR)\n",
        "\n",
        "\n",
        "  # Perform trial-based baseline correction\n",
        "  corrected_data = data.copy()\n",
        "  for trial_idx, (start, end) in enumerate(zip(start_seconds, end_seconds)):\n",
        "    # Calculate baseline window in samples (relative to trial start)\n",
        "    baseline_start = int(max(0, (start - pre_stim_window) * sampling_rate))\n",
        "    baseline_end = int(start * sampling_rate)\n",
        "\n",
        "    # Calculate baseline for each channel\n",
        "    baseline = np.mean(corrected_data[:, baseline_start:baseline_end], axis=1).reshape(-1, 1)\n",
        "\n",
        "    # Apply baseline correction for the entire trial\n",
        "    corrected_data[:, start_seconds[trial_idx]*sampling_rate:end_seconds[trial_idx]*sampling_rate] -= baseline\n",
        "    corrected_data = (corrected_data - np.mean(corrected_data, axis=0)) / np.std(corrected_data, axis=0)\n",
        "\n",
        "  return corrected_data\n",
        "\n",
        "# Replace with your actual data\n",
        "start_seconds = [30, 132, 287, 555, 773, 982, 1271, 1628, 1730, 2025, 2227, 2435, 2667, 2932, 3204]\n",
        "end_seconds = [102, 228, 524, 742, 920, 1240, 1568, 1697, 1994, 2166, 2401, 2607, 2901, 3172, 3359]\n",
        "pre_stim_window = 0.2\n",
        "sampling_rate = 200  # Hz (assuming you know your sampling rate)\n",
        "\n",
        "# Apply referencing and baseline correction\n",
        "for data in data_files:\n",
        "  raw = apply_reference_and_baseline_correction(data, start_seconds, end_seconds, pre_stim_window, sampling_rate)\n",
        "  base.append(raw)\n",
        "\n",
        "\n",
        "\n"
      ],
      "metadata": {
        "id": "ZNsDDnFj48dc"
      },
      "execution_count": null,
      "outputs": []
    },
    {
      "cell_type": "code",
      "source": [
        "import os\n",
        "import numpy as np\n",
        "\n",
        "def save(f, segment):# Directory to save CSV files\n",
        "  save_dir = \"/content/drive/MyDrive/Thesis/data\"\n",
        "  os.makedirs(save_dir, exist_ok=True)\n",
        "\n",
        "  # Save each trial into a separate CSV file\n",
        "  for i, segment in enumerate(segment):\n",
        "      csv_file = os.path.join(save_dir, f\"ss_{f}_{i+1}.csv\")\n",
        "      np.savetxt(csv_file, segment, delimiter=\",\")\n",
        "      print(f\"Saved file: {csv_file}\")\n",
        "for gi in range(len(segment)):\n",
        "  save(gi, segment[gi])"
      ],
      "metadata": {
        "id": "5cwXTgHxOH3e",
        "colab": {
          "base_uri": "https://localhost:8080/"
        },
        "outputId": "8f5efdc1-1d0a-4849-ae3e-cb3670972622",
        "collapsed": true
      },
      "execution_count": null,
      "outputs": [
        {
          "output_type": "stream",
          "name": "stdout",
          "text": [
            "Saved file: /content/drive/MyDrive/Thesis/data/ss_0_1.csv\n",
            "Saved file: /content/drive/MyDrive/Thesis/data/ss_0_2.csv\n",
            "Saved file: /content/drive/MyDrive/Thesis/data/ss_0_3.csv\n",
            "Saved file: /content/drive/MyDrive/Thesis/data/ss_0_4.csv\n",
            "Saved file: /content/drive/MyDrive/Thesis/data/ss_0_5.csv\n",
            "Saved file: /content/drive/MyDrive/Thesis/data/ss_0_6.csv\n",
            "Saved file: /content/drive/MyDrive/Thesis/data/ss_0_7.csv\n",
            "Saved file: /content/drive/MyDrive/Thesis/data/ss_0_8.csv\n",
            "Saved file: /content/drive/MyDrive/Thesis/data/ss_0_9.csv\n",
            "Saved file: /content/drive/MyDrive/Thesis/data/ss_0_10.csv\n",
            "Saved file: /content/drive/MyDrive/Thesis/data/ss_0_11.csv\n",
            "Saved file: /content/drive/MyDrive/Thesis/data/ss_0_12.csv\n",
            "Saved file: /content/drive/MyDrive/Thesis/data/ss_0_13.csv\n",
            "Saved file: /content/drive/MyDrive/Thesis/data/ss_0_14.csv\n",
            "Saved file: /content/drive/MyDrive/Thesis/data/ss_0_15.csv\n",
            "Saved file: /content/drive/MyDrive/Thesis/data/ss_1_1.csv\n",
            "Saved file: /content/drive/MyDrive/Thesis/data/ss_1_2.csv\n",
            "Saved file: /content/drive/MyDrive/Thesis/data/ss_1_3.csv\n",
            "Saved file: /content/drive/MyDrive/Thesis/data/ss_1_4.csv\n",
            "Saved file: /content/drive/MyDrive/Thesis/data/ss_1_5.csv\n",
            "Saved file: /content/drive/MyDrive/Thesis/data/ss_1_6.csv\n",
            "Saved file: /content/drive/MyDrive/Thesis/data/ss_1_7.csv\n",
            "Saved file: /content/drive/MyDrive/Thesis/data/ss_1_8.csv\n",
            "Saved file: /content/drive/MyDrive/Thesis/data/ss_1_9.csv\n",
            "Saved file: /content/drive/MyDrive/Thesis/data/ss_1_10.csv\n",
            "Saved file: /content/drive/MyDrive/Thesis/data/ss_1_11.csv\n",
            "Saved file: /content/drive/MyDrive/Thesis/data/ss_1_12.csv\n",
            "Saved file: /content/drive/MyDrive/Thesis/data/ss_1_13.csv\n",
            "Saved file: /content/drive/MyDrive/Thesis/data/ss_1_14.csv\n",
            "Saved file: /content/drive/MyDrive/Thesis/data/ss_1_15.csv\n",
            "Saved file: /content/drive/MyDrive/Thesis/data/ss_2_1.csv\n",
            "Saved file: /content/drive/MyDrive/Thesis/data/ss_2_2.csv\n",
            "Saved file: /content/drive/MyDrive/Thesis/data/ss_2_3.csv\n",
            "Saved file: /content/drive/MyDrive/Thesis/data/ss_2_4.csv\n",
            "Saved file: /content/drive/MyDrive/Thesis/data/ss_2_5.csv\n",
            "Saved file: /content/drive/MyDrive/Thesis/data/ss_2_6.csv\n",
            "Saved file: /content/drive/MyDrive/Thesis/data/ss_2_7.csv\n",
            "Saved file: /content/drive/MyDrive/Thesis/data/ss_2_8.csv\n",
            "Saved file: /content/drive/MyDrive/Thesis/data/ss_2_9.csv\n",
            "Saved file: /content/drive/MyDrive/Thesis/data/ss_2_10.csv\n",
            "Saved file: /content/drive/MyDrive/Thesis/data/ss_2_11.csv\n",
            "Saved file: /content/drive/MyDrive/Thesis/data/ss_2_12.csv\n",
            "Saved file: /content/drive/MyDrive/Thesis/data/ss_2_13.csv\n",
            "Saved file: /content/drive/MyDrive/Thesis/data/ss_2_14.csv\n",
            "Saved file: /content/drive/MyDrive/Thesis/data/ss_2_15.csv\n",
            "Saved file: /content/drive/MyDrive/Thesis/data/ss_3_1.csv\n",
            "Saved file: /content/drive/MyDrive/Thesis/data/ss_3_2.csv\n",
            "Saved file: /content/drive/MyDrive/Thesis/data/ss_3_3.csv\n",
            "Saved file: /content/drive/MyDrive/Thesis/data/ss_3_4.csv\n",
            "Saved file: /content/drive/MyDrive/Thesis/data/ss_3_5.csv\n",
            "Saved file: /content/drive/MyDrive/Thesis/data/ss_3_6.csv\n",
            "Saved file: /content/drive/MyDrive/Thesis/data/ss_3_7.csv\n",
            "Saved file: /content/drive/MyDrive/Thesis/data/ss_3_8.csv\n",
            "Saved file: /content/drive/MyDrive/Thesis/data/ss_3_9.csv\n",
            "Saved file: /content/drive/MyDrive/Thesis/data/ss_3_10.csv\n",
            "Saved file: /content/drive/MyDrive/Thesis/data/ss_3_11.csv\n",
            "Saved file: /content/drive/MyDrive/Thesis/data/ss_3_12.csv\n",
            "Saved file: /content/drive/MyDrive/Thesis/data/ss_3_13.csv\n",
            "Saved file: /content/drive/MyDrive/Thesis/data/ss_3_14.csv\n",
            "Saved file: /content/drive/MyDrive/Thesis/data/ss_3_15.csv\n",
            "Saved file: /content/drive/MyDrive/Thesis/data/ss_4_1.csv\n",
            "Saved file: /content/drive/MyDrive/Thesis/data/ss_4_2.csv\n",
            "Saved file: /content/drive/MyDrive/Thesis/data/ss_4_3.csv\n",
            "Saved file: /content/drive/MyDrive/Thesis/data/ss_4_4.csv\n",
            "Saved file: /content/drive/MyDrive/Thesis/data/ss_4_5.csv\n",
            "Saved file: /content/drive/MyDrive/Thesis/data/ss_4_6.csv\n",
            "Saved file: /content/drive/MyDrive/Thesis/data/ss_4_7.csv\n",
            "Saved file: /content/drive/MyDrive/Thesis/data/ss_4_8.csv\n",
            "Saved file: /content/drive/MyDrive/Thesis/data/ss_4_9.csv\n",
            "Saved file: /content/drive/MyDrive/Thesis/data/ss_4_10.csv\n",
            "Saved file: /content/drive/MyDrive/Thesis/data/ss_4_11.csv\n",
            "Saved file: /content/drive/MyDrive/Thesis/data/ss_4_12.csv\n",
            "Saved file: /content/drive/MyDrive/Thesis/data/ss_4_13.csv\n",
            "Saved file: /content/drive/MyDrive/Thesis/data/ss_4_14.csv\n",
            "Saved file: /content/drive/MyDrive/Thesis/data/ss_4_15.csv\n",
            "Saved file: /content/drive/MyDrive/Thesis/data/ss_5_1.csv\n",
            "Saved file: /content/drive/MyDrive/Thesis/data/ss_5_2.csv\n",
            "Saved file: /content/drive/MyDrive/Thesis/data/ss_5_3.csv\n",
            "Saved file: /content/drive/MyDrive/Thesis/data/ss_5_4.csv\n",
            "Saved file: /content/drive/MyDrive/Thesis/data/ss_5_5.csv\n",
            "Saved file: /content/drive/MyDrive/Thesis/data/ss_5_6.csv\n",
            "Saved file: /content/drive/MyDrive/Thesis/data/ss_5_7.csv\n",
            "Saved file: /content/drive/MyDrive/Thesis/data/ss_5_8.csv\n",
            "Saved file: /content/drive/MyDrive/Thesis/data/ss_5_9.csv\n",
            "Saved file: /content/drive/MyDrive/Thesis/data/ss_5_10.csv\n",
            "Saved file: /content/drive/MyDrive/Thesis/data/ss_5_11.csv\n",
            "Saved file: /content/drive/MyDrive/Thesis/data/ss_5_12.csv\n",
            "Saved file: /content/drive/MyDrive/Thesis/data/ss_5_13.csv\n",
            "Saved file: /content/drive/MyDrive/Thesis/data/ss_5_14.csv\n",
            "Saved file: /content/drive/MyDrive/Thesis/data/ss_5_15.csv\n",
            "Saved file: /content/drive/MyDrive/Thesis/data/ss_6_1.csv\n",
            "Saved file: /content/drive/MyDrive/Thesis/data/ss_6_2.csv\n",
            "Saved file: /content/drive/MyDrive/Thesis/data/ss_6_3.csv\n",
            "Saved file: /content/drive/MyDrive/Thesis/data/ss_6_4.csv\n",
            "Saved file: /content/drive/MyDrive/Thesis/data/ss_6_5.csv\n",
            "Saved file: /content/drive/MyDrive/Thesis/data/ss_6_6.csv\n",
            "Saved file: /content/drive/MyDrive/Thesis/data/ss_6_7.csv\n",
            "Saved file: /content/drive/MyDrive/Thesis/data/ss_6_8.csv\n",
            "Saved file: /content/drive/MyDrive/Thesis/data/ss_6_9.csv\n",
            "Saved file: /content/drive/MyDrive/Thesis/data/ss_6_10.csv\n",
            "Saved file: /content/drive/MyDrive/Thesis/data/ss_6_11.csv\n",
            "Saved file: /content/drive/MyDrive/Thesis/data/ss_6_12.csv\n",
            "Saved file: /content/drive/MyDrive/Thesis/data/ss_6_13.csv\n",
            "Saved file: /content/drive/MyDrive/Thesis/data/ss_6_14.csv\n",
            "Saved file: /content/drive/MyDrive/Thesis/data/ss_6_15.csv\n",
            "Saved file: /content/drive/MyDrive/Thesis/data/ss_7_1.csv\n",
            "Saved file: /content/drive/MyDrive/Thesis/data/ss_7_2.csv\n",
            "Saved file: /content/drive/MyDrive/Thesis/data/ss_7_3.csv\n",
            "Saved file: /content/drive/MyDrive/Thesis/data/ss_7_4.csv\n",
            "Saved file: /content/drive/MyDrive/Thesis/data/ss_7_5.csv\n",
            "Saved file: /content/drive/MyDrive/Thesis/data/ss_7_6.csv\n",
            "Saved file: /content/drive/MyDrive/Thesis/data/ss_7_7.csv\n",
            "Saved file: /content/drive/MyDrive/Thesis/data/ss_7_8.csv\n",
            "Saved file: /content/drive/MyDrive/Thesis/data/ss_7_9.csv\n",
            "Saved file: /content/drive/MyDrive/Thesis/data/ss_7_10.csv\n",
            "Saved file: /content/drive/MyDrive/Thesis/data/ss_7_11.csv\n",
            "Saved file: /content/drive/MyDrive/Thesis/data/ss_7_12.csv\n",
            "Saved file: /content/drive/MyDrive/Thesis/data/ss_7_13.csv\n",
            "Saved file: /content/drive/MyDrive/Thesis/data/ss_7_14.csv\n",
            "Saved file: /content/drive/MyDrive/Thesis/data/ss_7_15.csv\n",
            "Saved file: /content/drive/MyDrive/Thesis/data/ss_8_1.csv\n",
            "Saved file: /content/drive/MyDrive/Thesis/data/ss_8_2.csv\n",
            "Saved file: /content/drive/MyDrive/Thesis/data/ss_8_3.csv\n",
            "Saved file: /content/drive/MyDrive/Thesis/data/ss_8_4.csv\n",
            "Saved file: /content/drive/MyDrive/Thesis/data/ss_8_5.csv\n",
            "Saved file: /content/drive/MyDrive/Thesis/data/ss_8_6.csv\n",
            "Saved file: /content/drive/MyDrive/Thesis/data/ss_8_7.csv\n",
            "Saved file: /content/drive/MyDrive/Thesis/data/ss_8_8.csv\n",
            "Saved file: /content/drive/MyDrive/Thesis/data/ss_8_9.csv\n",
            "Saved file: /content/drive/MyDrive/Thesis/data/ss_8_10.csv\n",
            "Saved file: /content/drive/MyDrive/Thesis/data/ss_8_11.csv\n",
            "Saved file: /content/drive/MyDrive/Thesis/data/ss_8_12.csv\n",
            "Saved file: /content/drive/MyDrive/Thesis/data/ss_8_13.csv\n",
            "Saved file: /content/drive/MyDrive/Thesis/data/ss_8_14.csv\n",
            "Saved file: /content/drive/MyDrive/Thesis/data/ss_8_15.csv\n",
            "Saved file: /content/drive/MyDrive/Thesis/data/ss_9_1.csv\n",
            "Saved file: /content/drive/MyDrive/Thesis/data/ss_9_2.csv\n",
            "Saved file: /content/drive/MyDrive/Thesis/data/ss_9_3.csv\n",
            "Saved file: /content/drive/MyDrive/Thesis/data/ss_9_4.csv\n",
            "Saved file: /content/drive/MyDrive/Thesis/data/ss_9_5.csv\n",
            "Saved file: /content/drive/MyDrive/Thesis/data/ss_9_6.csv\n",
            "Saved file: /content/drive/MyDrive/Thesis/data/ss_9_7.csv\n",
            "Saved file: /content/drive/MyDrive/Thesis/data/ss_9_8.csv\n",
            "Saved file: /content/drive/MyDrive/Thesis/data/ss_9_9.csv\n",
            "Saved file: /content/drive/MyDrive/Thesis/data/ss_9_10.csv\n",
            "Saved file: /content/drive/MyDrive/Thesis/data/ss_9_11.csv\n",
            "Saved file: /content/drive/MyDrive/Thesis/data/ss_9_12.csv\n",
            "Saved file: /content/drive/MyDrive/Thesis/data/ss_9_13.csv\n",
            "Saved file: /content/drive/MyDrive/Thesis/data/ss_9_14.csv\n",
            "Saved file: /content/drive/MyDrive/Thesis/data/ss_9_15.csv\n",
            "Saved file: /content/drive/MyDrive/Thesis/data/ss_10_1.csv\n",
            "Saved file: /content/drive/MyDrive/Thesis/data/ss_10_2.csv\n",
            "Saved file: /content/drive/MyDrive/Thesis/data/ss_10_3.csv\n",
            "Saved file: /content/drive/MyDrive/Thesis/data/ss_10_4.csv\n",
            "Saved file: /content/drive/MyDrive/Thesis/data/ss_10_5.csv\n",
            "Saved file: /content/drive/MyDrive/Thesis/data/ss_10_6.csv\n",
            "Saved file: /content/drive/MyDrive/Thesis/data/ss_10_7.csv\n",
            "Saved file: /content/drive/MyDrive/Thesis/data/ss_10_8.csv\n",
            "Saved file: /content/drive/MyDrive/Thesis/data/ss_10_9.csv\n",
            "Saved file: /content/drive/MyDrive/Thesis/data/ss_10_10.csv\n",
            "Saved file: /content/drive/MyDrive/Thesis/data/ss_10_11.csv\n",
            "Saved file: /content/drive/MyDrive/Thesis/data/ss_10_12.csv\n",
            "Saved file: /content/drive/MyDrive/Thesis/data/ss_10_13.csv\n",
            "Saved file: /content/drive/MyDrive/Thesis/data/ss_10_14.csv\n",
            "Saved file: /content/drive/MyDrive/Thesis/data/ss_10_15.csv\n",
            "Saved file: /content/drive/MyDrive/Thesis/data/ss_11_1.csv\n",
            "Saved file: /content/drive/MyDrive/Thesis/data/ss_11_2.csv\n",
            "Saved file: /content/drive/MyDrive/Thesis/data/ss_11_3.csv\n",
            "Saved file: /content/drive/MyDrive/Thesis/data/ss_11_4.csv\n",
            "Saved file: /content/drive/MyDrive/Thesis/data/ss_11_5.csv\n",
            "Saved file: /content/drive/MyDrive/Thesis/data/ss_11_6.csv\n",
            "Saved file: /content/drive/MyDrive/Thesis/data/ss_11_7.csv\n",
            "Saved file: /content/drive/MyDrive/Thesis/data/ss_11_8.csv\n",
            "Saved file: /content/drive/MyDrive/Thesis/data/ss_11_9.csv\n",
            "Saved file: /content/drive/MyDrive/Thesis/data/ss_11_10.csv\n",
            "Saved file: /content/drive/MyDrive/Thesis/data/ss_11_11.csv\n",
            "Saved file: /content/drive/MyDrive/Thesis/data/ss_11_12.csv\n",
            "Saved file: /content/drive/MyDrive/Thesis/data/ss_11_13.csv\n",
            "Saved file: /content/drive/MyDrive/Thesis/data/ss_11_14.csv\n",
            "Saved file: /content/drive/MyDrive/Thesis/data/ss_11_15.csv\n",
            "Saved file: /content/drive/MyDrive/Thesis/data/ss_12_1.csv\n",
            "Saved file: /content/drive/MyDrive/Thesis/data/ss_12_2.csv\n",
            "Saved file: /content/drive/MyDrive/Thesis/data/ss_12_3.csv\n",
            "Saved file: /content/drive/MyDrive/Thesis/data/ss_12_4.csv\n",
            "Saved file: /content/drive/MyDrive/Thesis/data/ss_12_5.csv\n",
            "Saved file: /content/drive/MyDrive/Thesis/data/ss_12_6.csv\n",
            "Saved file: /content/drive/MyDrive/Thesis/data/ss_12_7.csv\n",
            "Saved file: /content/drive/MyDrive/Thesis/data/ss_12_8.csv\n",
            "Saved file: /content/drive/MyDrive/Thesis/data/ss_12_9.csv\n",
            "Saved file: /content/drive/MyDrive/Thesis/data/ss_12_10.csv\n",
            "Saved file: /content/drive/MyDrive/Thesis/data/ss_12_11.csv\n",
            "Saved file: /content/drive/MyDrive/Thesis/data/ss_12_12.csv\n",
            "Saved file: /content/drive/MyDrive/Thesis/data/ss_12_13.csv\n",
            "Saved file: /content/drive/MyDrive/Thesis/data/ss_12_14.csv\n",
            "Saved file: /content/drive/MyDrive/Thesis/data/ss_12_15.csv\n",
            "Saved file: /content/drive/MyDrive/Thesis/data/ss_13_1.csv\n",
            "Saved file: /content/drive/MyDrive/Thesis/data/ss_13_2.csv\n",
            "Saved file: /content/drive/MyDrive/Thesis/data/ss_13_3.csv\n",
            "Saved file: /content/drive/MyDrive/Thesis/data/ss_13_4.csv\n",
            "Saved file: /content/drive/MyDrive/Thesis/data/ss_13_5.csv\n",
            "Saved file: /content/drive/MyDrive/Thesis/data/ss_13_6.csv\n",
            "Saved file: /content/drive/MyDrive/Thesis/data/ss_13_7.csv\n",
            "Saved file: /content/drive/MyDrive/Thesis/data/ss_13_8.csv\n",
            "Saved file: /content/drive/MyDrive/Thesis/data/ss_13_9.csv\n",
            "Saved file: /content/drive/MyDrive/Thesis/data/ss_13_10.csv\n",
            "Saved file: /content/drive/MyDrive/Thesis/data/ss_13_11.csv\n",
            "Saved file: /content/drive/MyDrive/Thesis/data/ss_13_12.csv\n",
            "Saved file: /content/drive/MyDrive/Thesis/data/ss_13_13.csv\n",
            "Saved file: /content/drive/MyDrive/Thesis/data/ss_13_14.csv\n",
            "Saved file: /content/drive/MyDrive/Thesis/data/ss_13_15.csv\n",
            "Saved file: /content/drive/MyDrive/Thesis/data/ss_14_1.csv\n",
            "Saved file: /content/drive/MyDrive/Thesis/data/ss_14_2.csv\n",
            "Saved file: /content/drive/MyDrive/Thesis/data/ss_14_3.csv\n",
            "Saved file: /content/drive/MyDrive/Thesis/data/ss_14_4.csv\n",
            "Saved file: /content/drive/MyDrive/Thesis/data/ss_14_5.csv\n",
            "Saved file: /content/drive/MyDrive/Thesis/data/ss_14_6.csv\n",
            "Saved file: /content/drive/MyDrive/Thesis/data/ss_14_7.csv\n",
            "Saved file: /content/drive/MyDrive/Thesis/data/ss_14_8.csv\n",
            "Saved file: /content/drive/MyDrive/Thesis/data/ss_14_9.csv\n",
            "Saved file: /content/drive/MyDrive/Thesis/data/ss_14_10.csv\n",
            "Saved file: /content/drive/MyDrive/Thesis/data/ss_14_11.csv\n",
            "Saved file: /content/drive/MyDrive/Thesis/data/ss_14_12.csv\n",
            "Saved file: /content/drive/MyDrive/Thesis/data/ss_14_13.csv\n",
            "Saved file: /content/drive/MyDrive/Thesis/data/ss_14_14.csv\n",
            "Saved file: /content/drive/MyDrive/Thesis/data/ss_14_15.csv\n",
            "Saved file: /content/drive/MyDrive/Thesis/data/ss_15_1.csv\n",
            "Saved file: /content/drive/MyDrive/Thesis/data/ss_15_2.csv\n",
            "Saved file: /content/drive/MyDrive/Thesis/data/ss_15_3.csv\n",
            "Saved file: /content/drive/MyDrive/Thesis/data/ss_15_4.csv\n",
            "Saved file: /content/drive/MyDrive/Thesis/data/ss_15_5.csv\n",
            "Saved file: /content/drive/MyDrive/Thesis/data/ss_15_6.csv\n",
            "Saved file: /content/drive/MyDrive/Thesis/data/ss_15_7.csv\n",
            "Saved file: /content/drive/MyDrive/Thesis/data/ss_15_8.csv\n",
            "Saved file: /content/drive/MyDrive/Thesis/data/ss_15_9.csv\n",
            "Saved file: /content/drive/MyDrive/Thesis/data/ss_15_10.csv\n",
            "Saved file: /content/drive/MyDrive/Thesis/data/ss_15_11.csv\n",
            "Saved file: /content/drive/MyDrive/Thesis/data/ss_15_12.csv\n",
            "Saved file: /content/drive/MyDrive/Thesis/data/ss_15_13.csv\n",
            "Saved file: /content/drive/MyDrive/Thesis/data/ss_15_14.csv\n",
            "Saved file: /content/drive/MyDrive/Thesis/data/ss_15_15.csv\n"
          ]
        }
      ]
    },
    {
      "cell_type": "code",
      "source": [],
      "metadata": {
        "id": "cRj0u8WkFZWM"
      },
      "execution_count": null,
      "outputs": []
    },
    {
      "cell_type": "code",
      "execution_count": null,
      "metadata": {
        "colab": {
          "base_uri": "https://localhost:8080/"
        },
        "id": "AumNcq5P5q-H",
        "outputId": "f6a61548-48ce-4534-bb05-aafc4dcc48e7"
      },
      "outputs": [
        {
          "name": "stdout",
          "output_type": "stream",
          "text": [
            "(240, 62, 59400)\n"
          ]
        }
      ],
      "source": [
        "#Zero-Padding\n",
        "import numpy as np\n",
        "\n",
        "max_samples = max(trial.shape[1] for trial in trials)\n",
        "\n",
        "sample = np.zeros((len(trials), 62, max_samples))\n",
        "\n",
        "for i, trial in enumerate(trials):\n",
        "  padding_length = max_samples - trial.shape[1]\n",
        "  sample[i, :, :] = np.pad(trial, ((0, 0), (0, padding_length)), mode='constant', constant_values=0)\n",
        "\n",
        "print(sample.shape)"
      ]
    },
    {
      "cell_type": "code",
      "execution_count": null,
      "metadata": {
        "id": "vp_CHNZtjbr-"
      },
      "outputs": [],
      "source": [
        "def average_pooling(segment):\n",
        "\n",
        "  # Convert segment to tensor (assuming data is a NumPy array)\n",
        "  segment_tensor = tf.convert_to_tensor(segment, dtype=tf.float32)\n",
        "  # Apply average pooling\n",
        "  segment_tensor = tf.reshape(segment_tensor, [segment_tensor.shape[0], segment_tensor.shape[1], 1])\n",
        "  pooled_segment = tf.keras.layers.AveragePooling2D(3,3)(\n",
        "      tf.expand_dims(segment_tensor, axis=0))\n",
        "  # Squeeze the dimension\n",
        "\n",
        "  return tf.squeeze(pooled_segment, axis=0)\n",
        "\n",
        "# Apply pooling to each data segment\n",
        "pooled_data = [average_pooling(segment) for segment in trials]\n"
      ]
    },
    {
      "cell_type": "code",
      "execution_count": null,
      "metadata": {
        "id": "psbeGy-vtqL6"
      },
      "outputs": [],
      "source": [
        "pooled = []\n",
        "for i in pooled_data:\n",
        "  raw = tf.reshape(i,[i.shape[0], i.shape[1]])\n",
        "  pooled.append(raw)"
      ]
    },
    {
      "cell_type": "code",
      "execution_count": null,
      "metadata": {
        "colab": {
          "base_uri": "https://localhost:8080/"
        },
        "id": "VgecYhZKsSRB",
        "outputId": "7318827c-fe3b-4f8c-842a-627cbeeb3793"
      },
      "outputs": [
        {
          "name": "stdout",
          "output_type": "stream",
          "text": [
            "(240, 20, 19800)\n"
          ]
        }
      ],
      "source": [
        "#Average Pooling\n",
        "import numpy as np\n",
        "\n",
        "\n",
        "max_samples = max(trial.shape[1] for trial in pooled)\n",
        "\n",
        "sample = np.zeros((len(pooled), 20, max_samples))\n",
        "\n",
        "for i, trial in enumerate(pooled):\n",
        "  padding_length = max_samples - trial.shape[1]\n",
        "  sample[i, :, :] = np.pad(trial, ((0, 0), (0, padding_length)), mode='constant', constant_values=0)\n",
        "\n",
        "print(sample.shape)"
      ]
    },
    {
      "cell_type": "code",
      "execution_count": null,
      "metadata": {
        "id": "yEGhr99FcDgD"
      },
      "outputs": [],
      "source": [
        "import os\n",
        "import numpy as np\n",
        "\n",
        "def save(i, segment):# Directory to save CSV files\n",
        "  save_dir = \"/content/drive/MyDrive/pooled_data\"\n",
        "  os.makedirs(save_dir, exist_ok=True)\n",
        "\n",
        "\n",
        "  csv_file = os.path.join(save_dir, f\"s{i+1}.csv\")\n",
        "  np.savetxt(csv_file, segment, delimiter=\",\")\n",
        "  print(f\"Saved file: {csv_file}\")\n",
        "for i, segment in enumerate(sample):\n",
        "  save(i, segment)\n",
        "  print(segment.shape)"
      ]
    }
  ]
}